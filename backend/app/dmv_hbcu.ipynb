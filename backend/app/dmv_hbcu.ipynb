{
 "cells": [
  {
   "cell_type": "code",
   "execution_count": 14,
   "metadata": {},
   "outputs": [],
   "source": [
    "import pandas as pd\n",
    "import requests\n",
    "import html5lib\n",
    "from bs4 import BeautifulSoup"
   ]
  },
  {
   "cell_type": "markdown",
   "metadata": {},
   "source": [
    "**ALL DC Schools**"
   ]
  },
  {
   "cell_type": "code",
   "execution_count": 15,
   "metadata": {},
   "outputs": [
    {
     "name": "stderr",
     "output_type": "stream",
     "text": [
      "/Users/jessicabenitez/Documents/GitHub/college-rec/college-env/lib/python3.12/site-packages/urllib3/connectionpool.py:1103: InsecureRequestWarning: Unverified HTTPS request is being made to host 'en.wikipedia.org'. Adding certificate verification is strongly advised. See: https://urllib3.readthedocs.io/en/latest/advanced-usage.html#tls-warnings\n",
      "  warnings.warn(\n"
     ]
    },
    {
     "name": "stdout",
     "output_type": "stream",
     "text": [
      "                                               School  \\\n",
      "0                                 American University   \n",
      "1                             Bay Atlantic University   \n",
      "2                      Catholic University of America   \n",
      "3                                Gallaudet University   \n",
      "4                        George Washington University   \n",
      "5                               Georgetown University   \n",
      "6                                   Howard University   \n",
      "7                         Institute of World Politics   \n",
      "8                      Inter-American Defense College   \n",
      "9            National Intelligence University[note 4]   \n",
      "10  Pontifical Faculty of the Immaculate Conceptio...   \n",
      "11  Pontifical John Paul II Institute for Studies ...   \n",
      "12            Strayer University–District of Columbia   \n",
      "13                      Trinity Washington University   \n",
      "14         University of Phoenix–Washington DC Campus   \n",
      "15             University of the District of Columbia   \n",
      "16     University of the Potomac–Washington DC Campus   \n",
      "17                        Wesley Theological Seminary   \n",
      "\n",
      "                                      Control[note 2]  \\\n",
      "0                              Private not-for-profit   \n",
      "1                              Private not-for-profit   \n",
      "2                              Private not-for-profit   \n",
      "3                              Private not-for-profit   \n",
      "4                              Private not-for-profit   \n",
      "5                              Private not-for-profit   \n",
      "6                              Private not-for-profit   \n",
      "7                              Private not-for-profit   \n",
      "8   Public (Organization of American States and th...   \n",
      "9      Public (U.S. Government and U.S. Armed Forces)   \n",
      "10                             Private not-for-profit   \n",
      "11                             Private not-for-profit   \n",
      "12                                 Private for-profit   \n",
      "13                             Private not-for-profit   \n",
      "14                                 Private for-profit   \n",
      "15                                             Public   \n",
      "16                                 Private for-profit   \n",
      "17                             Private not-for-profit   \n",
      "\n",
      "                    Type[note 3] Enrollment[7] (Fall 2022)   Founded  \\\n",
      "0   Doctoral/research university                     13885  1893[14]   \n",
      "1                 Not Classified                   230[15]  2014[16]   \n",
      "2            Research university                      4968  1887[18]   \n",
      "3            Doctoral university                      1322  1864[19]   \n",
      "4            Research university                     25939   1821[6]   \n",
      "5            Research university                     20984   1789[2]   \n",
      "6            Research university                     12886  1867[20]   \n",
      "7      Special-focus institution                       131  1990[21]   \n",
      "8      Special-focus institution                        64      1962   \n",
      "9      Special-focus institution                   692[22]  1962[23]   \n",
      "10     Special-focus institution                        73  1902[25]   \n",
      "11     Special-focus institution                        64  1988[26]   \n",
      "12           Master's university                       362  1904[27]   \n",
      "13           Master's university                      1895  1897[28]   \n",
      "14     Special-focus institution                       203  1976[29]   \n",
      "15           Master's university                      3577  1851[30]   \n",
      "16     Special-focus institution                       534  1989[31]   \n",
      "17     Special-focus institution                       454  1882[32]   \n",
      "\n",
      "                                     Accreditation[7]  \n",
      "0                               ABA, APA, CEPH, MSCHE  \n",
      "1                                           NECHE[17]  \n",
      "2              ACEN, ABA, APA, ATS, CCNE, MSCHE, NASM  \n",
      "3                               APA, ASHA, CEA, MSCHE  \n",
      "4   ACME, ABA, APTA, APA, ASHA, CCNE, CEPH, CPE, L...  \n",
      "5         ACME, ABA, CCNE, CEA, COA, CPE, LCME, MSCHE  \n",
      "6   ACPE, ABA, ADA, AND, AOTA, APTA, APA, ASHA, AT...  \n",
      "7                                               MSCHE  \n",
      "8                                               MSCHE  \n",
      "9                                           MSCHE[24]  \n",
      "10                                         ATS, MSCHE  \n",
      "11                                              MSCHE  \n",
      "12                                        CCNE, MSCHE  \n",
      "13                                  AOTA, CCNE, MSCHE  \n",
      "14                                                HLC  \n",
      "15              ACEN, ABFSE, AND, ASHA, JRCERT, MSCHE  \n",
      "16                                              MSCHE  \n",
      "17                                         ATS, MSCHE  \n"
     ]
    },
    {
     "name": "stderr",
     "output_type": "stream",
     "text": [
      "/var/folders/4l/q8fyjl614w1567jd1msnhymw0000gn/T/ipykernel_1274/3635450704.py:13: FutureWarning: Passing literal html to 'read_html' is deprecated and will be removed in a future version. To read from a literal string, wrap it in a 'StringIO' object.\n",
      "  dc = pd.read_html(str(dc_table))[0]\n"
     ]
    }
   ],
   "source": [
    "# https://re-thought.com/how-to-scrape-a-table-from-a-website-using-python-2/#:~:text=The%20pd.read_html%20%28%29%20function%20takes%20a%20URL%20as,%28%29%20function%20to%20extract%20tables%20from%20a%20website.\n",
    "url1 = \"https://en.wikipedia.org/wiki/List_of_colleges_and_universities_in_Washington,_D.C.\"\n",
    "\n",
    "response = requests.get(url1, verify=False)\n",
    "soup = BeautifulSoup(response.text, 'lxml')\n",
    "\n",
    "#finding table by its XPath\n",
    "dc_tables = soup.select('#mw-content-text > div > table')\n",
    "\n",
    "dc_table = dc_tables[0] #selecting the second table\n",
    "\n",
    "#loading table into pandas dataframe\n",
    "dc = pd.read_html(str(dc_table))[0]\n",
    "print(dc)"
   ]
  },
  {
   "cell_type": "markdown",
   "metadata": {},
   "source": [
    "**ALL MD SCHOOLS**"
   ]
  },
  {
   "cell_type": "code",
   "execution_count": 16,
   "metadata": {},
   "outputs": [
    {
     "name": "stderr",
     "output_type": "stream",
     "text": [
      "/Users/jessicabenitez/Documents/GitHub/college-rec/college-env/lib/python3.12/site-packages/urllib3/connectionpool.py:1103: InsecureRequestWarning: Unverified HTTPS request is being made to host 'en.wikipedia.org'. Adding certificate verification is strongly advised. See: https://urllib3.readthedocs.io/en/latest/advanced-usage.html#tls-warnings\n",
      "  warnings.warn(\n"
     ]
    },
    {
     "name": "stdout",
     "output_type": "stream",
     "text": [
      "                                        Name         Location  Founded  \\\n",
      "0                     Bowie State University            Bowie     1865   \n",
      "1                    Coppin State University        Baltimore     1900   \n",
      "2                 Frostburg State University        Frostburg     1899   \n",
      "3                    Morgan State University        Baltimore     1867   \n",
      "4                       Salisbury University        Salisbury     1925   \n",
      "5             St. Mary’s College of Maryland  St. Mary's City     1840   \n",
      "6                          Towson University           Towson     1866   \n",
      "7                United States Naval Academy        Annapolis     1845   \n",
      "8                    University of Baltimore        Baltimore     1925   \n",
      "9          University of Maryland, Baltimore        Baltimore     1807   \n",
      "10  University of Maryland, Baltimore County      Catonsville     1966   \n",
      "11      University of Maryland, College Park     College Park     1856   \n",
      "12      University of Maryland Eastern Shore    Princess Anne     1886   \n",
      "13      University of Maryland Global Campus          Adelphi     1947   \n",
      "\n",
      "       Type (Background) Enroll­ment[7]  Average SATs           Ref  \n",
      "0             USM (HBCU)           6408         945.0           [8]  \n",
      "1             USM (HBCU)           2101         895.0           [9]  \n",
      "2         USM (teaching)           4075        1030.0          [10]  \n",
      "3     Independent (HBCU)      9,808[11]         705.0  [12][13][14]  \n",
      "4         USM (teaching)           7029        1220.0          [15]  \n",
      "5   Liberal arts college      1,611[16]        1175.0      [12][17]  \n",
      "6         USM (teaching)          19527        1140.0          [18]  \n",
      "7        Service academy      4,450[19]        1350.0      [12][20]  \n",
      "8                    USM           3101        1055.0          [21]  \n",
      "9                    USM           6667        1270.0          [22]  \n",
      "10                   USM          14148        1270.0          [23]  \n",
      "11        USM (flagship)          40813        1375.0          [24]  \n",
      "12            USM (HBCU)           2840         940.0          [25]  \n",
      "13                   USM          60084           NaN          [26]  \n"
     ]
    },
    {
     "name": "stderr",
     "output_type": "stream",
     "text": [
      "/var/folders/4l/q8fyjl614w1567jd1msnhymw0000gn/T/ipykernel_1274/1730923002.py:12: FutureWarning: Passing literal html to 'read_html' is deprecated and will be removed in a future version. To read from a literal string, wrap it in a 'StringIO' object.\n",
      "  md = pd.read_html(str(md_table))[0]\n"
     ]
    }
   ],
   "source": [
    "url2 = \"https://en.wikipedia.org/wiki/List_of_colleges_and_universities_in_Maryland\"\n",
    "\n",
    "response = requests.get(url2, verify=False)\n",
    "soup = BeautifulSoup(response.text, 'lxml')\n",
    "\n",
    "#finding table by its XPath\n",
    "md_tables = soup.select('#mw-content-text > div > table')\n",
    "\n",
    "md_table = md_tables[0] #selecting the second table\n",
    "\n",
    "#loading table into pandas dataframe\n",
    "md = pd.read_html(str(md_table))[0]\n",
    "print(md)"
   ]
  },
  {
   "cell_type": "markdown",
   "metadata": {},
   "source": [
    "**ALL VA SCHOOLS**"
   ]
  },
  {
   "cell_type": "code",
   "execution_count": 17,
   "metadata": {},
   "outputs": [
    {
     "name": "stderr",
     "output_type": "stream",
     "text": [
      "/Users/jessicabenitez/Documents/GitHub/college-rec/college-env/lib/python3.12/site-packages/urllib3/connectionpool.py:1103: InsecureRequestWarning: Unverified HTTPS request is being made to host 'en.wikipedia.org'. Adding certificate verification is strongly advised. See: https://urllib3.readthedocs.io/en/latest/advanced-usage.html#tls-warnings\n",
      "  warnings.warn(\n"
     ]
    },
    {
     "name": "stdout",
     "output_type": "stream",
     "text": [
      "                                           Name Location(s)[7]  \\\n",
      "0               American National University[9]   Multiple[10]   \n",
      "1               Appalachian College of Pharmacy        Oakwood   \n",
      "2                     Appalachian School of Law         Grundy   \n",
      "3                        Averett University[11]       Danville   \n",
      "4                  Blue Ridge Community College    Weyers Cave   \n",
      "..                                          ...            ...   \n",
      "76  Virginia University of Science & Technology         McLean   \n",
      "77                 Virginia Wesleyan University        Norfolk   \n",
      "78           Virginia Western Community College        Roanoke   \n",
      "79                Washington and Lee University      Lexington   \n",
      "80                 Wytheville Community College     Wytheville   \n",
      "\n",
      "                                       Control  \\\n",
      "0                         Private (for profit)   \n",
      "1                     Private (not for profit)   \n",
      "2                     Private (not for profit)   \n",
      "3                     Private (not for profit)   \n",
      "4   Public (Virginia Community College System)   \n",
      "..                                         ...   \n",
      "76                        Private (for profit)   \n",
      "77                         Private (Methodist)   \n",
      "78  Public (Virginia Community College System)   \n",
      "79                    Private (not for profit)   \n",
      "80  Public (Virginia Community College System)   \n",
      "\n",
      "                Carnegie Classification Accreditation Founded Enrollment[8]  \n",
      "0                    Masters University         ACICS    1886          1113  \n",
      "1                         Special focus          ACPE    2003           130  \n",
      "2                         Special focus           ABA    1994           152  \n",
      "3                    Masters University          SACS    1859          1363  \n",
      "4   Baccalaureate / Associates Colleges          SACS    1967          3562  \n",
      "..                                  ...           ...     ...           ...  \n",
      "76                   Masters University  Unaccredited    2016       Unknown  \n",
      "77                Baccalaureate college          SACS    1961          1538  \n",
      "78                       Junior college          SACS    1966          5860  \n",
      "79                Baccalaureate college          SACS    1749          2243  \n",
      "80                       Junior college          SACS    1963          2116  \n",
      "\n",
      "[81 rows x 7 columns]\n"
     ]
    },
    {
     "name": "stderr",
     "output_type": "stream",
     "text": [
      "/var/folders/4l/q8fyjl614w1567jd1msnhymw0000gn/T/ipykernel_1274/3328162998.py:12: FutureWarning: Passing literal html to 'read_html' is deprecated and will be removed in a future version. To read from a literal string, wrap it in a 'StringIO' object.\n",
      "  va = pd.read_html(str(va_table))[0]\n"
     ]
    }
   ],
   "source": [
    "url3 = \"https://en.wikipedia.org/wiki/List_of_colleges_and_universities_in_Virginia\"\n",
    "\n",
    "response = requests.get(url3, verify=False)\n",
    "soup = BeautifulSoup(response.text, 'lxml')\n",
    "\n",
    "#finding table by its XPath\n",
    "va_tables = soup.select('#mw-content-text > div > table')\n",
    "\n",
    "va_table = va_tables[0] #selecting the second table\n",
    "\n",
    "#loading table into pandas dataframe\n",
    "va = pd.read_html(str(va_table))[0]\n",
    "print(va)"
   ]
  },
  {
   "cell_type": "markdown",
   "metadata": {},
   "source": [
    "**ALL HBCU**"
   ]
  },
  {
   "cell_type": "code",
   "execution_count": 18,
   "metadata": {},
   "outputs": [
    {
     "name": "stderr",
     "output_type": "stream",
     "text": [
      "/Users/jessicabenitez/Documents/GitHub/college-rec/college-env/lib/python3.12/site-packages/urllib3/connectionpool.py:1103: InsecureRequestWarning: Unverified HTTPS request is being made to host 'en.wikipedia.org'. Adding certificate verification is strongly advised. See: https://urllib3.readthedocs.io/en/latest/advanced-usage.html#tls-warnings\n",
      "  warnings.warn(\n"
     ]
    },
    {
     "name": "stdout",
     "output_type": "stream",
     "text": [
      "                        Institution           City State/ territory  Founded  \\\n",
      "0            Alabama A&M University      Normal[a]          Alabama     1875   \n",
      "1          Alabama State University     Montgomery          Alabama     1867   \n",
      "2           Albany State University         Albany          Georgia     1903   \n",
      "3           Alcorn State University      Lorman[b]      Mississippi     1871   \n",
      "4                  Allen University       Columbia   South Carolina     1870   \n",
      "..                              ...            ...              ...      ...   \n",
      "100  West Virginia State University      Institute    West Virginia     1891   \n",
      "101          Wilberforce University    Wilberforce             Ohio     1856   \n",
      "102                Wiley University       Marshall            Texas     1873   \n",
      "103  Winston-Salem State University  Winston-Salem   North Carolina     1892   \n",
      "104  Xavier University of Louisiana    New Orleans        Louisiana     1915   \n",
      "\n",
      "            Type                                            Comment  \\\n",
      "0         Public     Founded as Colored Normal School at Huntsville   \n",
      "1         Public         Founded as Lincoln Normal School of Marion   \n",
      "2         Public  Founded as Albany Bible and Manual Training In...   \n",
      "3         Public  Founded as Alcorn University, in honor of Jame...   \n",
      "4     Private[c]                         Founded as Payne Institute   \n",
      "..           ...                                                ...   \n",
      "100       Public         Founded as West Virginia Colored Institute   \n",
      "101   Private[c]  Named for William Wilberforce. Oldest HBCU to ...   \n",
      "102   Private[h]  Named for Isaac William Wiley; was Wiley Colle...   \n",
      "103       Public  Founded as Slater Industrial and State Normal ...   \n",
      "104  Private[ac]          Founded as Xavier Preparatory High School   \n",
      "\n",
      "    Regionally accredited[3]  \n",
      "0                        Yes  \n",
      "1                        Yes  \n",
      "2                        Yes  \n",
      "3                        Yes  \n",
      "4                        Yes  \n",
      "..                       ...  \n",
      "100                      Yes  \n",
      "101                      Yes  \n",
      "102                      Yes  \n",
      "103                      Yes  \n",
      "104                      Yes  \n",
      "\n",
      "[105 rows x 7 columns]\n"
     ]
    },
    {
     "name": "stderr",
     "output_type": "stream",
     "text": [
      "/var/folders/4l/q8fyjl614w1567jd1msnhymw0000gn/T/ipykernel_1274/2757191462.py:10: FutureWarning: Passing literal html to 'read_html' is deprecated and will be removed in a future version. To read from a literal string, wrap it in a 'StringIO' object.\n",
      "  all_hbcu = pd.read_html(str(table))[0]\n"
     ]
    }
   ],
   "source": [
    "url4 = \"https://en.wikipedia.org/wiki/List_of_historically_black_colleges_and_universities\"\n",
    "response = requests.get(url4, verify=False)\n",
    "soup = BeautifulSoup(response.text, 'lxml')\n",
    "\n",
    "#finding table by its XPath\n",
    "tables = soup.select('#mw-content-text > div > table')\n",
    "\n",
    "table = tables[1] #selecting the second table\n",
    "#loading table into pandas dataframe\n",
    "all_hbcu = pd.read_html(str(table))[0]\n",
    "print(all_hbcu)"
   ]
  },
  {
   "cell_type": "markdown",
   "metadata": {},
   "source": [
    "**cleaning all_hbcu, md, va, and dc dataframes**"
   ]
  },
  {
   "cell_type": "code",
   "execution_count": 19,
   "metadata": {},
   "outputs": [
    {
     "name": "stdout",
     "output_type": "stream",
     "text": [
      "<class 'pandas.core.frame.DataFrame'>\n",
      "RangeIndex: 105 entries, 0 to 104\n",
      "Data columns (total 7 columns):\n",
      " #   Column                    Non-Null Count  Dtype \n",
      "---  ------                    --------------  ----- \n",
      " 0   Institution               105 non-null    object\n",
      " 1   City                      105 non-null    object\n",
      " 2   State/ territory          105 non-null    object\n",
      " 3   Founded                   105 non-null    int64 \n",
      " 4   Type                      105 non-null    object\n",
      " 5   Comment                   98 non-null     object\n",
      " 6   Regionally accredited[3]  105 non-null    object\n",
      "dtypes: int64(1), object(6)\n",
      "memory usage: 5.9+ KB\n"
     ]
    }
   ],
   "source": [
    "all_hbcu.info()"
   ]
  },
  {
   "cell_type": "code",
   "execution_count": 20,
   "metadata": {},
   "outputs": [],
   "source": [
    "all_hbcu = all_hbcu.drop(['Type', 'Founded','Comment', 'Regionally accredited[3]'], axis=1)"
   ]
  },
  {
   "cell_type": "code",
   "execution_count": 21,
   "metadata": {},
   "outputs": [
    {
     "data": {
      "text/html": [
       "<div>\n",
       "<style scoped>\n",
       "    .dataframe tbody tr th:only-of-type {\n",
       "        vertical-align: middle;\n",
       "    }\n",
       "\n",
       "    .dataframe tbody tr th {\n",
       "        vertical-align: top;\n",
       "    }\n",
       "\n",
       "    .dataframe thead th {\n",
       "        text-align: right;\n",
       "    }\n",
       "</style>\n",
       "<table border=\"1\" class=\"dataframe\">\n",
       "  <thead>\n",
       "    <tr style=\"text-align: right;\">\n",
       "      <th></th>\n",
       "      <th>Institution</th>\n",
       "      <th>City</th>\n",
       "      <th>State/ territory</th>\n",
       "    </tr>\n",
       "  </thead>\n",
       "  <tbody>\n",
       "    <tr>\n",
       "      <th>0</th>\n",
       "      <td>Alabama A&amp;M University</td>\n",
       "      <td>Normal[a]</td>\n",
       "      <td>Alabama</td>\n",
       "    </tr>\n",
       "    <tr>\n",
       "      <th>1</th>\n",
       "      <td>Alabama State University</td>\n",
       "      <td>Montgomery</td>\n",
       "      <td>Alabama</td>\n",
       "    </tr>\n",
       "    <tr>\n",
       "      <th>2</th>\n",
       "      <td>Albany State University</td>\n",
       "      <td>Albany</td>\n",
       "      <td>Georgia</td>\n",
       "    </tr>\n",
       "    <tr>\n",
       "      <th>3</th>\n",
       "      <td>Alcorn State University</td>\n",
       "      <td>Lorman[b]</td>\n",
       "      <td>Mississippi</td>\n",
       "    </tr>\n",
       "    <tr>\n",
       "      <th>4</th>\n",
       "      <td>Allen University</td>\n",
       "      <td>Columbia</td>\n",
       "      <td>South Carolina</td>\n",
       "    </tr>\n",
       "    <tr>\n",
       "      <th>5</th>\n",
       "      <td>American Baptist College</td>\n",
       "      <td>Nashville</td>\n",
       "      <td>Tennessee</td>\n",
       "    </tr>\n",
       "    <tr>\n",
       "      <th>6</th>\n",
       "      <td>University of Arkansas at Pine Bluff</td>\n",
       "      <td>Pine Bluff</td>\n",
       "      <td>Arkansas</td>\n",
       "    </tr>\n",
       "    <tr>\n",
       "      <th>7</th>\n",
       "      <td>Arkansas Baptist College</td>\n",
       "      <td>Little Rock</td>\n",
       "      <td>Arkansas</td>\n",
       "    </tr>\n",
       "    <tr>\n",
       "      <th>8</th>\n",
       "      <td>Barber–Scotia College</td>\n",
       "      <td>Concord</td>\n",
       "      <td>North Carolina</td>\n",
       "    </tr>\n",
       "    <tr>\n",
       "      <th>9</th>\n",
       "      <td>Benedict College</td>\n",
       "      <td>Columbia</td>\n",
       "      <td>South Carolina</td>\n",
       "    </tr>\n",
       "  </tbody>\n",
       "</table>\n",
       "</div>"
      ],
      "text/plain": [
       "                            Institution         City State/ territory\n",
       "0                Alabama A&M University    Normal[a]          Alabama\n",
       "1              Alabama State University   Montgomery          Alabama\n",
       "2               Albany State University       Albany          Georgia\n",
       "3               Alcorn State University    Lorman[b]      Mississippi\n",
       "4                      Allen University     Columbia   South Carolina\n",
       "5              American Baptist College    Nashville        Tennessee\n",
       "6  University of Arkansas at Pine Bluff   Pine Bluff         Arkansas\n",
       "7              Arkansas Baptist College  Little Rock         Arkansas\n",
       "8                 Barber–Scotia College      Concord   North Carolina\n",
       "9                      Benedict College     Columbia   South Carolina"
      ]
     },
     "execution_count": 21,
     "metadata": {},
     "output_type": "execute_result"
    }
   ],
   "source": [
    "all_hbcu.head(10)"
   ]
  },
  {
   "cell_type": "code",
   "execution_count": 22,
   "metadata": {},
   "outputs": [
    {
     "name": "stdout",
     "output_type": "stream",
     "text": [
      "<class 'pandas.core.frame.DataFrame'>\n",
      "RangeIndex: 81 entries, 0 to 80\n",
      "Data columns (total 7 columns):\n",
      " #   Column                   Non-Null Count  Dtype \n",
      "---  ------                   --------------  ----- \n",
      " 0   Name                     81 non-null     object\n",
      " 1   Location(s)[7]           81 non-null     object\n",
      " 2   Control                  81 non-null     object\n",
      " 3   Carnegie Classification  81 non-null     object\n",
      " 4   Accreditation            81 non-null     object\n",
      " 5   Founded                  81 non-null     object\n",
      " 6   Enrollment[8]            81 non-null     object\n",
      "dtypes: object(7)\n",
      "memory usage: 4.6+ KB\n"
     ]
    }
   ],
   "source": [
    "va.info()"
   ]
  },
  {
   "cell_type": "code",
   "execution_count": 23,
   "metadata": {},
   "outputs": [],
   "source": [
    "va_df = va.drop(['Location(s)[7]', 'Control', 'Carnegie Classification', 'Accreditation', 'Founded', 'Enrollment[8]'], axis=1)"
   ]
  },
  {
   "cell_type": "code",
   "execution_count": 24,
   "metadata": {},
   "outputs": [
    {
     "name": "stdout",
     "output_type": "stream",
     "text": [
      "<class 'pandas.core.frame.DataFrame'>\n",
      "RangeIndex: 14 entries, 0 to 13\n",
      "Data columns (total 7 columns):\n",
      " #   Column             Non-Null Count  Dtype  \n",
      "---  ------             --------------  -----  \n",
      " 0   Name               14 non-null     object \n",
      " 1   Location           14 non-null     object \n",
      " 2   Founded            14 non-null     int64  \n",
      " 3   Type (Background)  14 non-null     object \n",
      " 4   Enroll­ment[7]     14 non-null     object \n",
      " 5   Average SATs       13 non-null     float64\n",
      " 6   Ref                14 non-null     object \n",
      "dtypes: float64(1), int64(1), object(5)\n",
      "memory usage: 916.0+ bytes\n"
     ]
    }
   ],
   "source": [
    "md.info()"
   ]
  },
  {
   "cell_type": "code",
   "execution_count": 25,
   "metadata": {},
   "outputs": [],
   "source": [
    "md_df = md.drop(['Location', 'Founded', 'Type (Background)', 'Enroll­ment[7]', 'Average SATs', 'Ref'], axis=1)"
   ]
  },
  {
   "cell_type": "code",
   "execution_count": 26,
   "metadata": {},
   "outputs": [
    {
     "name": "stdout",
     "output_type": "stream",
     "text": [
      "<class 'pandas.core.frame.DataFrame'>\n",
      "RangeIndex: 18 entries, 0 to 17\n",
      "Data columns (total 6 columns):\n",
      " #   Column                     Non-Null Count  Dtype \n",
      "---  ------                     --------------  ----- \n",
      " 0   School                     18 non-null     object\n",
      " 1   Control[note 2]            18 non-null     object\n",
      " 2   Type[note 3]               18 non-null     object\n",
      " 3   Enrollment[7] (Fall 2022)  18 non-null     object\n",
      " 4   Founded                    18 non-null     object\n",
      " 5   Accreditation[7]           18 non-null     object\n",
      "dtypes: object(6)\n",
      "memory usage: 996.0+ bytes\n"
     ]
    }
   ],
   "source": [
    "dc.info()"
   ]
  },
  {
   "cell_type": "code",
   "execution_count": 27,
   "metadata": {},
   "outputs": [],
   "source": [
    "dc_df = dc.drop(['Control[note 2]', 'Type[note 3]', 'Enrollment[7] (Fall 2022)', 'Founded', 'Accreditation[7]'], axis=1)"
   ]
  },
  {
   "cell_type": "markdown",
   "metadata": {},
   "source": [
    "**Renaming columns in order to join dataframes**"
   ]
  },
  {
   "cell_type": "code",
   "execution_count": 28,
   "metadata": {},
   "outputs": [],
   "source": [
    "dc_df.rename(columns={'School':'Institution'}, inplace=True)\n",
    "va_df.rename(columns={'Name':'Institution'}, inplace=True)\n",
    "md_df.rename(columns={'Name':'Institution'}, inplace=True)"
   ]
  },
  {
   "cell_type": "code",
   "execution_count": 29,
   "metadata": {},
   "outputs": [
    {
     "name": "stdout",
     "output_type": "stream",
     "text": [
      "<class 'pandas.core.frame.DataFrame'>\n",
      "RangeIndex: 18 entries, 0 to 17\n",
      "Data columns (total 1 columns):\n",
      " #   Column       Non-Null Count  Dtype \n",
      "---  ------       --------------  ----- \n",
      " 0   Institution  18 non-null     object\n",
      "dtypes: object(1)\n",
      "memory usage: 276.0+ bytes\n"
     ]
    }
   ],
   "source": [
    "dc_df.info()"
   ]
  },
  {
   "cell_type": "markdown",
   "metadata": {},
   "source": [
    "**making df for md, va, and dc hbcu**"
   ]
  },
  {
   "cell_type": "code",
   "execution_count": 30,
   "metadata": {},
   "outputs": [
    {
     "data": {
      "text/plain": [
       "<bound method NDFrame.head of                               Institution        City      State/ territory\n",
       "0  University of the District of Columbia  Washington  District of Columbia\n",
       "1                       Howard University  Washington  District of Columbia>"
      ]
     },
     "execution_count": 30,
     "metadata": {},
     "output_type": "execute_result"
    }
   ],
   "source": [
    "dc_hbcu = pd.merge(all_hbcu, dc_df, how=\"inner\", on=[\"Institution\"]) #inner joining on word allows for no repetition or NaN rows\n",
    "dc_hbcu.head"
   ]
  },
  {
   "cell_type": "code",
   "execution_count": 31,
   "metadata": {},
   "outputs": [
    {
     "data": {
      "text/plain": [
       "<bound method NDFrame.head of                             Institution              City State/ territory\n",
       "0                Bowie State University             Bowie         Maryland\n",
       "1               Coppin State University         Baltimore         Maryland\n",
       "2  University of Maryland Eastern Shore  Princess Anne[q]         Maryland\n",
       "3               Morgan State University         Baltimore         Maryland>"
      ]
     },
     "execution_count": 31,
     "metadata": {},
     "output_type": "execute_result"
    }
   ],
   "source": [
    "md_hbcu = pd.merge(all_hbcu, md_df, how=\"inner\", on=[\"Institution\"])\n",
    "md_hbcu.head"
   ]
  },
  {
   "cell_type": "code",
   "execution_count": 32,
   "metadata": {},
   "outputs": [
    {
     "data": {
      "text/plain": [
       "<bound method NDFrame.head of                         Institution            City State/ territory\n",
       "0                Hampton University         Hampton         Virginia\n",
       "1          Norfolk State University         Norfolk         Virginia\n",
       "2         Virginia State University  Petersburg[aa]         Virginia\n",
       "3         Virginia Union University        Richmond         Virginia\n",
       "4  Virginia University of Lynchburg       Lynchburg         Virginia>"
      ]
     },
     "execution_count": 32,
     "metadata": {},
     "output_type": "execute_result"
    }
   ],
   "source": [
    "va_hbcu = pd.merge(all_hbcu, va_df, how=\"inner\", on=[\"Institution\"])\n",
    "va_hbcu.head"
   ]
  },
  {
   "cell_type": "markdown",
   "metadata": {},
   "source": [
    "**making a dmv_hbcu dataframe**"
   ]
  },
  {
   "cell_type": "code",
   "execution_count": 33,
   "metadata": {},
   "outputs": [
    {
     "data": {
      "text/plain": [
       "<bound method NDFrame.head of                               Institution            City  \\\n",
       "0                      Hampton University         Hampton   \n",
       "1                Norfolk State University         Norfolk   \n",
       "2               Virginia State University  Petersburg[aa]   \n",
       "3               Virginia Union University        Richmond   \n",
       "4        Virginia University of Lynchburg       Lynchburg   \n",
       "5  University of the District of Columbia      Washington   \n",
       "6                       Howard University      Washington   \n",
       "\n",
       "       State/ territory  \n",
       "0              Virginia  \n",
       "1              Virginia  \n",
       "2              Virginia  \n",
       "3              Virginia  \n",
       "4              Virginia  \n",
       "5  District of Columbia  \n",
       "6  District of Columbia  >"
      ]
     },
     "execution_count": 33,
     "metadata": {},
     "output_type": "execute_result"
    }
   ],
   "source": [
    "#adding dc_hbcu to the end of va_hbcu without repetition\n",
    "va_dc_hbcu = pd.concat([va_hbcu, dc_hbcu], ignore_index=True)\n",
    "va_dc_hbcu.head"
   ]
  },
  {
   "cell_type": "code",
   "execution_count": 34,
   "metadata": {},
   "outputs": [
    {
     "data": {
      "text/plain": [
       "<bound method NDFrame.head of                                Institution              City  \\\n",
       "0                       Hampton University           Hampton   \n",
       "1                 Norfolk State University           Norfolk   \n",
       "2                Virginia State University    Petersburg[aa]   \n",
       "3                Virginia Union University          Richmond   \n",
       "4         Virginia University of Lynchburg         Lynchburg   \n",
       "5   University of the District of Columbia        Washington   \n",
       "6                        Howard University        Washington   \n",
       "7                   Bowie State University             Bowie   \n",
       "8                  Coppin State University         Baltimore   \n",
       "9     University of Maryland Eastern Shore  Princess Anne[q]   \n",
       "10                 Morgan State University         Baltimore   \n",
       "\n",
       "        State/ territory  \n",
       "0               Virginia  \n",
       "1               Virginia  \n",
       "2               Virginia  \n",
       "3               Virginia  \n",
       "4               Virginia  \n",
       "5   District of Columbia  \n",
       "6   District of Columbia  \n",
       "7               Maryland  \n",
       "8               Maryland  \n",
       "9               Maryland  \n",
       "10              Maryland  >"
      ]
     },
     "execution_count": 34,
     "metadata": {},
     "output_type": "execute_result"
    }
   ],
   "source": [
    "#adding md_hbcu to the end of the previous va_dc_hbcu\n",
    "dmv_hbcu = pd.concat([va_dc_hbcu, md_hbcu], ignore_index=True)\n",
    "dmv_hbcu.head"
   ]
  },
  {
   "cell_type": "code",
   "execution_count": 35,
   "metadata": {},
   "outputs": [],
   "source": [
    "#cleaning institution row\n",
    "dmv_hbcu.at[2, 'City'] = 'Petersburg'\n",
    "dmv_hbcu.at[9, 'City'] = 'Princess Anne'\n",
    "dmv_hbcu.rename(columns={'State/ territory':'State'}, inplace=True)"
   ]
  },
  {
   "cell_type": "code",
   "execution_count": 36,
   "metadata": {},
   "outputs": [
    {
     "data": {
      "text/html": [
       "<div>\n",
       "<style scoped>\n",
       "    .dataframe tbody tr th:only-of-type {\n",
       "        vertical-align: middle;\n",
       "    }\n",
       "\n",
       "    .dataframe tbody tr th {\n",
       "        vertical-align: top;\n",
       "    }\n",
       "\n",
       "    .dataframe thead th {\n",
       "        text-align: right;\n",
       "    }\n",
       "</style>\n",
       "<table border=\"1\" class=\"dataframe\">\n",
       "  <thead>\n",
       "    <tr style=\"text-align: right;\">\n",
       "      <th></th>\n",
       "      <th>Institution</th>\n",
       "      <th>City</th>\n",
       "      <th>State</th>\n",
       "    </tr>\n",
       "  </thead>\n",
       "  <tbody>\n",
       "    <tr>\n",
       "      <th>0</th>\n",
       "      <td>Hampton University</td>\n",
       "      <td>Hampton</td>\n",
       "      <td>Virginia</td>\n",
       "    </tr>\n",
       "    <tr>\n",
       "      <th>1</th>\n",
       "      <td>Norfolk State University</td>\n",
       "      <td>Norfolk</td>\n",
       "      <td>Virginia</td>\n",
       "    </tr>\n",
       "    <tr>\n",
       "      <th>2</th>\n",
       "      <td>Virginia State University</td>\n",
       "      <td>Petersburg</td>\n",
       "      <td>Virginia</td>\n",
       "    </tr>\n",
       "    <tr>\n",
       "      <th>3</th>\n",
       "      <td>Virginia Union University</td>\n",
       "      <td>Richmond</td>\n",
       "      <td>Virginia</td>\n",
       "    </tr>\n",
       "    <tr>\n",
       "      <th>4</th>\n",
       "      <td>Virginia University of Lynchburg</td>\n",
       "      <td>Lynchburg</td>\n",
       "      <td>Virginia</td>\n",
       "    </tr>\n",
       "    <tr>\n",
       "      <th>5</th>\n",
       "      <td>University of the District of Columbia</td>\n",
       "      <td>Washington</td>\n",
       "      <td>District of Columbia</td>\n",
       "    </tr>\n",
       "    <tr>\n",
       "      <th>6</th>\n",
       "      <td>Howard University</td>\n",
       "      <td>Washington</td>\n",
       "      <td>District of Columbia</td>\n",
       "    </tr>\n",
       "    <tr>\n",
       "      <th>7</th>\n",
       "      <td>Bowie State University</td>\n",
       "      <td>Bowie</td>\n",
       "      <td>Maryland</td>\n",
       "    </tr>\n",
       "    <tr>\n",
       "      <th>8</th>\n",
       "      <td>Coppin State University</td>\n",
       "      <td>Baltimore</td>\n",
       "      <td>Maryland</td>\n",
       "    </tr>\n",
       "    <tr>\n",
       "      <th>9</th>\n",
       "      <td>University of Maryland Eastern Shore</td>\n",
       "      <td>Princess Anne</td>\n",
       "      <td>Maryland</td>\n",
       "    </tr>\n",
       "    <tr>\n",
       "      <th>10</th>\n",
       "      <td>Morgan State University</td>\n",
       "      <td>Baltimore</td>\n",
       "      <td>Maryland</td>\n",
       "    </tr>\n",
       "  </tbody>\n",
       "</table>\n",
       "</div>"
      ],
      "text/plain": [
       "                               Institution           City  \\\n",
       "0                       Hampton University        Hampton   \n",
       "1                 Norfolk State University        Norfolk   \n",
       "2                Virginia State University     Petersburg   \n",
       "3                Virginia Union University       Richmond   \n",
       "4         Virginia University of Lynchburg      Lynchburg   \n",
       "5   University of the District of Columbia     Washington   \n",
       "6                        Howard University     Washington   \n",
       "7                   Bowie State University          Bowie   \n",
       "8                  Coppin State University      Baltimore   \n",
       "9     University of Maryland Eastern Shore  Princess Anne   \n",
       "10                 Morgan State University      Baltimore   \n",
       "\n",
       "                   State  \n",
       "0               Virginia  \n",
       "1               Virginia  \n",
       "2               Virginia  \n",
       "3               Virginia  \n",
       "4               Virginia  \n",
       "5   District of Columbia  \n",
       "6   District of Columbia  \n",
       "7               Maryland  \n",
       "8               Maryland  \n",
       "9               Maryland  \n",
       "10              Maryland  "
      ]
     },
     "execution_count": 36,
     "metadata": {},
     "output_type": "execute_result"
    }
   ],
   "source": [
    "dmv_hbcu.head(15)"
   ]
  },
  {
   "cell_type": "code",
   "execution_count": 37,
   "metadata": {},
   "outputs": [],
   "source": [
    "dmv_hbcu.to_excel('dmv_hbcu.xlsx', index=False)"
   ]
  }
 ],
 "metadata": {
  "kernelspec": {
   "display_name": "college-env",
   "language": "python",
   "name": "python3"
  },
  "language_info": {
   "codemirror_mode": {
    "name": "ipython",
    "version": 3
   },
   "file_extension": ".py",
   "mimetype": "text/x-python",
   "name": "python",
   "nbconvert_exporter": "python",
   "pygments_lexer": "ipython3",
   "version": "3.12.2"
  }
 },
 "nbformat": 4,
 "nbformat_minor": 2
}
